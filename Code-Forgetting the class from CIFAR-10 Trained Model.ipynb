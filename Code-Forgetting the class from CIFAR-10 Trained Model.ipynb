{
  "cells": [
    {
      "cell_type": "markdown",
      "metadata": {
        "id": "MxkVTz01Cdg3"
      },
      "source": [
        "### Importing Necessary Libraries"
      ]
    },
    {
      "cell_type": "code",
      "execution_count": 1,
      "metadata": {
        "colab": {
          "base_uri": "https://localhost:8080/"
        },
        "collapsed": true,
        "id": "gWNhlLYF7V_1",
        "outputId": "e5ea3baa-98dd-4966-bd3c-4bc1637bde78"
      },
      "outputs": [
        {
          "name": "stdout",
          "output_type": "stream",
          "text": [
            "Collecting umap-learn\n",
            "  Downloading umap_learn-0.5.6-py3-none-any.whl.metadata (21 kB)\n",
            "Requirement already satisfied: numpy>=1.17 in c:\\users\\muzam\\appdata\\local\\programs\\python\\python311\\lib\\site-packages (from umap-learn) (1.23.5)\n",
            "Requirement already satisfied: scipy>=1.3.1 in c:\\users\\muzam\\appdata\\local\\programs\\python\\python311\\lib\\site-packages (from umap-learn) (1.10.1)\n",
            "Requirement already satisfied: scikit-learn>=0.22 in c:\\users\\muzam\\appdata\\local\\programs\\python\\python311\\lib\\site-packages (from umap-learn) (1.2.2)\n",
            "Requirement already satisfied: numba>=0.51.2 in c:\\users\\muzam\\appdata\\local\\programs\\python\\python311\\lib\\site-packages (from umap-learn) (0.57.1)\n",
            "Collecting pynndescent>=0.5 (from umap-learn)\n",
            "  Downloading pynndescent-0.5.12-py3-none-any.whl.metadata (6.8 kB)\n",
            "Requirement already satisfied: tqdm in c:\\users\\muzam\\appdata\\local\\programs\\python\\python311\\lib\\site-packages (from umap-learn) (4.65.0)\n",
            "Requirement already satisfied: llvmlite<0.41,>=0.40.0dev0 in c:\\users\\muzam\\appdata\\local\\programs\\python\\python311\\lib\\site-packages (from numba>=0.51.2->umap-learn) (0.40.1)\n",
            "Requirement already satisfied: joblib>=0.11 in c:\\users\\muzam\\appdata\\local\\programs\\python\\python311\\lib\\site-packages (from pynndescent>=0.5->umap-learn) (1.2.0)\n",
            "Requirement already satisfied: threadpoolctl>=2.0.0 in c:\\users\\muzam\\appdata\\local\\programs\\python\\python311\\lib\\site-packages (from scikit-learn>=0.22->umap-learn) (3.1.0)\n",
            "Requirement already satisfied: colorama in c:\\users\\muzam\\appdata\\local\\programs\\python\\python311\\lib\\site-packages (from tqdm->umap-learn) (0.4.6)\n",
            "Downloading umap_learn-0.5.6-py3-none-any.whl (85 kB)\n",
            "   ---------------------------------------- 0.0/85.7 kB ? eta -:--:--\n",
            "   -------------- ------------------------- 30.7/85.7 kB 640.0 kB/s eta 0:00:01\n",
            "   ------------------- -------------------- 41.0/85.7 kB 279.3 kB/s eta 0:00:01\n",
            "   ---------------------------- ----------- 61.4/85.7 kB 363.1 kB/s eta 0:00:01\n",
            "   ---------------------------------------- 85.7/85.7 kB 301.9 kB/s eta 0:00:00\n",
            "Downloading pynndescent-0.5.12-py3-none-any.whl (56 kB)\n",
            "   ---------------------------------------- 0.0/56.8 kB ? eta -:--:--\n",
            "   ------------------------------------ --- 51.2/56.8 kB ? eta -:--:--\n",
            "   ---------------------------------------- 56.8/56.8 kB 739.3 kB/s eta 0:00:00\n",
            "Installing collected packages: pynndescent, umap-learn\n",
            "Successfully installed pynndescent-0.5.12 umap-learn-0.5.6\n"
          ]
        }
      ],
      "source": [
        "!pip install umap-learn"
      ]
    },
    {
      "cell_type": "code",
      "execution_count": null,
      "metadata": {
        "id": "9F6esF6MCkcN"
      },
      "outputs": [],
      "source": [
        "import torch\n",
        "import torchvision\n",
        "import torchvision.transforms as transforms\n",
        "import torch.nn as nn\n",
        "import torch.optim as optim\n",
        "import umap.umap_ as umap\n",
        "import matplotlib.pyplot as plt\n",
        "import numpy as np\n",
        "import torch.nn.functional as F\n",
        "import random\n",
        "import time"
      ]
    },
    {
      "cell_type": "markdown",
      "metadata": {
        "id": "mBEKYZglFU7I"
      },
      "source": [
        "### Model Definition: ResNet18"
      ]
    },
    {
      "cell_type": "code",
      "execution_count": null,
      "metadata": {
        "id": "1eRk-ecmFhDN"
      },
      "outputs": [],
      "source": [
        "class BasicBlock(nn.Module):\n",
        "    expansion = 1\n",
        "\n",
        "    def __init__(self, in_planes, planes, stride=1):\n",
        "        super(BasicBlock, self).__init__()\n",
        "        self.conv1 = nn.Conv2d(in_planes, planes, kernel_size=3, stride=stride, padding=1, bias=False)\n",
        "        self.bn1 = nn.BatchNorm2d(planes)\n",
        "        self.conv2 = nn.Conv2d(planes, planes, kernel_size=3, stride=1, padding=1, bias=False)\n",
        "        self.bn2 = nn.BatchNorm2d(planes)\n",
        "        self.shortcut = nn.Sequential()\n",
        "        if stride != 1 or in_planes != self.expansion * planes:\n",
        "            self.shortcut = nn.Sequential(\n",
        "                nn.Conv2d(in_planes, self.expansion * planes, kernel_size=1, stride=stride, bias=False),\n",
        "                nn.BatchNorm2d(self.expansion * planes)\n",
        "            )\n",
        "\n",
        "    def forward(self, x):\n",
        "        out = F.relu(self.bn1(self.conv1(x)))\n",
        "        out = self.bn2(self.conv2(out))\n",
        "        out += self.shortcut(x)\n",
        "        out = F.relu(out)\n",
        "        return out\n",
        "\n",
        "class ResNet(nn.Module):\n",
        "    def __init__(self, block, num_blocks, num_classes=10):\n",
        "        super(ResNet, self).__init__()\n",
        "        self.in_planes = 64\n",
        "        self.conv1 = nn.Conv2d(3, 64, kernel_size=3, stride=1, padding=1, bias=False)\n",
        "        self.bn1 = nn.BatchNorm2d(64)\n",
        "        self.layer1 = self._make_layer(block, 64, num_blocks[0], stride=1)\n",
        "        self.layer2 = self._make_layer(block, 128, num_blocks[1], stride=2)\n",
        "        self.layer3 = self._make_layer(block, 256, num_blocks[2], stride=2)\n",
        "        self.layer4 = self._make_layer(block, 512, num_blocks[3], stride=2)\n",
        "        self.linear = nn.Linear(512 * block.expansion, num_classes)\n",
        "\n",
        "    def _make_layer(self, block, planes, num_blocks, stride):\n",
        "        strides = [stride] + [1] * (num_blocks - 1)\n",
        "        layers = []\n",
        "        for stride in strides:\n",
        "            layers.append(block(self.in_planes, planes, stride))\n",
        "            self.in_planes = planes * block.expansion\n",
        "        return nn.Sequential(*layers)\n",
        "\n",
        "    def forward(self, x):\n",
        "        out = F.relu(self.bn1(self.conv1(x)))\n",
        "        out = self.layer1(out)\n",
        "        out = self.layer2(out)\n",
        "        out = self.layer3(out)\n",
        "        out = self.layer4(out)\n",
        "        out = F.avg_pool2d(out, 4)\n",
        "        out = out.view(out.size(0), -1)\n",
        "        out = self.linear(out)\n",
        "        return out\n",
        "\n",
        "    def extract_features(self, x):\n",
        "        out = F.relu(self.bn1(self.conv1(x)))\n",
        "        out = self.layer1(out)\n",
        "        out = self.layer2(out)\n",
        "        out = self.layer3(out)\n",
        "        out = self.layer4(out)\n",
        "        out = F.avg_pool2d(out, 4)\n",
        "        out = out.view(out.size(0), -1)\n",
        "        return out\n",
        "\n",
        "def ResNet18():\n",
        "    return ResNet(BasicBlock, [2, 2, 2, 2])"
      ]
    },
    {
      "cell_type": "markdown",
      "metadata": {
        "id": "bwlNGLrV-Tpw"
      },
      "source": [
        "# **Step 1: Train the ResNet18 Model on CIFAR10**"
      ]
    },
    {
      "cell_type": "markdown",
      "metadata": {
        "id": "RNAmBAgF-qom"
      },
      "source": [
        "## **1. Prepare the Dataset and Train the Model**"
      ]
    },
    {
      "cell_type": "code",
      "execution_count": null,
      "metadata": {
        "id": "LbntHbctk-5K"
      },
      "outputs": [],
      "source": [
        "transform_train = transforms.Compose([\n",
        "    transforms.RandomCrop(32, padding=4),\n",
        "    transforms.RandomHorizontalFlip(),\n",
        "    transforms.ToTensor(),\n",
        "    transforms.Normalize((0.4914, 0.4822, 0.4465), (0.2023, 0.1994, 0.2010)),\n",
        "])\n",
        "\n",
        "trainset = torchvision.datasets.CIFAR10(root='./data', train=True, download=True, transform=transform_train)\n",
        "trainloader = torch.utils.data.DataLoader(trainset, batch_size=128, shuffle=True, num_workers=2)\n",
        "\n",
        "net = ResNet18()\n",
        "device = 'cuda' if torch.cuda.is_available() else 'cpu'\n",
        "net = net.to(device)\n",
        "criterion = nn.CrossEntropyLoss()\n",
        "optimizer = optim.SGD(net.parameters(), lr=0.01, momentum=0.9, weight_decay=5e-4)\n",
        "\n",
        "train_losses = []\n",
        "train_accuracies = []\n",
        "# Training loop\n",
        "start_time = time.time()\n",
        "for epoch in range(10):\n",
        "    running_loss = 0.0\n",
        "    correct = 0\n",
        "    total = 0\n",
        "    for i, data in enumerate(trainloader, 0):\n",
        "        inputs, labels = data\n",
        "        inputs, labels = inputs.to(device), labels.to(device)\n",
        "\n",
        "        optimizer.zero_grad()\n",
        "        outputs = net(inputs)\n",
        "        loss = criterion(outputs, labels)\n",
        "        loss.backward()\n",
        "        optimizer.step()  \n",
        "\n",
        "        running_loss += loss.item()\n",
        "        _, predicted = torch.max(outputs, 1)\n",
        "        total += labels.size(0)\n",
        "        correct += (predicted == labels).sum().item()\n",
        "\n",
        "        if i % 100 == 99: \n",
        "            print(f'[Epoch {epoch + 1}, Iter {i + 1}] loss: {running_loss / 100:.3f}')\n",
        "            running_loss = 0.0\n",
        "\n",
        "    train_losses.append(running_loss / len(trainloader))\n",
        "    train_accuracies.append(100 * correct / total)\n",
        "total_time = time.time() - start_time\n",
        "print('Finished Training')\n",
        "print(f'Total Training time: {total_time:.2f} seconds')\n",
        "torch.save(net.state_dict(), 'resnet18_cifar10.pth')  "
      ]
    },
    {
      "cell_type": "code",
      "execution_count": null,
      "metadata": {
        "id": "rjJmCOwN7G3Q"
      },
      "outputs": [],
      "source": [
        "# Plotting the results\n",
        "epochs = range(1, 11)\n",
        "\n",
        "plt.figure(figsize=(14, 5))\n",
        "\n",
        "# Plot for epoch vs loss\n",
        "plt.subplot(1, 2, 1)\n",
        "plt.plot(epochs, train_losses, label='Training Loss')\n",
        "plt.xlabel('Epochs')\n",
        "plt.ylabel('Loss')\n",
        "plt.title('Epoch vs Loss - Training')\n",
        "plt.legend()\n",
        "\n",
        "# Plot for epoch vs accuracy\n",
        "plt.subplot(1, 2, 2)\n",
        "plt.plot(epochs, train_accuracies, label='Training Accuracy')\n",
        "plt.xlabel('Epochs')\n",
        "plt.ylabel('Accuracy (%)')\n",
        "plt.title('Epoch vs Accuracy - Training')\n",
        "plt.legend()\n",
        "\n",
        "plt.tight_layout()\n",
        "plt.show()"
      ]
    },
    {
      "cell_type": "markdown",
      "metadata": {
        "id": "-eqs8qEx-3PP"
      },
      "source": [
        "## **2. Test the Model and Report Accuracy for Each Class**"
      ]
    },
    {
      "cell_type": "code",
      "execution_count": null,
      "metadata": {
        "id": "j8INZU_y5xbV"
      },
      "outputs": [],
      "source": [
        "# Data loading and preprocessing\n",
        "transform_test = transforms.Compose([\n",
        "    transforms.ToTensor(),  \n",
        "    transforms.Normalize((0.4914, 0.4822, 0.4465), (0.2023, 0.1994, 0.2010)), \n",
        "])\n",
        "\n",
        "testset = torchvision.datasets.CIFAR10(root='./data', train=False, download=True, transform=transform_test)\n",
        "testloader = torch.utils.data.DataLoader(testset, batch_size=100, shuffle=False, num_workers=2)\n",
        "\n",
        "classes = ('plane', 'car', 'bird', 'cat', 'deer', 'dog', 'frog', 'horse', 'ship', 'truck')  # CIFAR-10 class names\n",
        "\n",
        "# Load the trained model\n",
        "net = ResNet18()\n",
        "device = 'cuda' if torch.cuda.is_available() else 'cpu'\n",
        "net.load_state_dict(torch.load('resnet18_cifar10.pth'))  # Load the saved model weights\n",
        "net = net.to(device)\n",
        "net.eval()  \n",
        "\n",
        "correct = {i: 0 for i in range(10)}\n",
        "total = {i: 0 for i in range(10)}\n",
        "\n",
        "with torch.no_grad():\n",
        "    for data in testloader:\n",
        "        images, labels = data\n",
        "        images, labels = images.to(device), labels.to(device)\n",
        "        outputs = net(images)  \n",
        "        _, predicted = torch.max(outputs, 1)  \n",
        "        c = (predicted == labels).squeeze()  \n",
        "        for i in range(len(labels)):\n",
        "            label = labels[i].item()\n",
        "            correct[label] += c[i].item()  \n",
        "            total[label] += 1  \n",
        "\n",
        "# Print accuracy for each class\n",
        "for i in range(10):\n",
        "    print(f'Accuracy of {classes[i]}: {100 * correct[i] / total[i]:.2f} %')"
      ]
    },
    {
      "cell_type": "markdown",
      "metadata": {
        "id": "7JlyRs_C-8Xe"
      },
      "source": [
        "## **3. Extract Intermediate Representations and Apply UMAP**"
      ]
    },
    {
      "cell_type": "markdown",
      "metadata": {
        "id": "Pcs1s6h350ku"
      },
      "source": [
        "visualize_umap.py"
      ]
    },
    {
      "cell_type": "code",
      "execution_count": null,
      "metadata": {
        "id": "IczlBRGY54ol"
      },
      "outputs": [],
      "source": [
        "# Load the trained model\n",
        "net = ResNet18()\n",
        "device = 'cuda' if torch.cuda.is_available() else 'cpu'\n",
        "net.load_state_dict(torch.load('resnet18_cifar10.pth')) \n",
        "net = net.to(device)\n",
        "net.eval()  \n",
        "\n",
        "features = []\n",
        "labels_list = []\n",
        "\n",
        "def hook(module, input, output):\n",
        "    features.append(output.detach().cpu().numpy())\n",
        "\n",
        "net.linear.register_forward_hook(hook)\n",
        "\n",
        "with torch.no_grad():  \n",
        "    for data in testloader:\n",
        "        images, labels = data\n",
        "        images, labels = images.to(device), labels.to(device)\n",
        "        outputs = net(images) \n",
        "        labels_list.extend(labels.cpu().numpy())\n",
        "\n",
        "features = np.concatenate(features, axis=0)  \n",
        "labels_list = np.array(labels_list)  \n",
        "\n",
        "# Apply UMAP for dimensionality reduction\n",
        "reducer = umap.UMAP()\n",
        "embedding = reducer.fit_transform(features)\n",
        "\n",
        "# Plot UMAP result\n",
        "plt.figure(figsize=(10, 8))\n",
        "for i in range(10):\n",
        "    indices = labels_list == i\n",
        "    plt.scatter(embedding[indices, 0], embedding[indices, 1], label=classes[i], s=5)\n",
        "plt.legend()\n",
        "plt.title('UMAP projection of CIFAR-10 features - Testing')\n",
        "plt.show()"
      ]
    },
    {
      "cell_type": "markdown",
      "metadata": {
        "id": "hKX_npkK_GUo"
      },
      "source": [
        "# **Step 2: Boundary Unlearning with PGD Attack**"
      ]
    },
    {
      "cell_type": "markdown",
      "metadata": {
        "id": "rxMpdmni_JRo"
      },
      "source": [
        "## **1. Define the PGD Attack Function**"
      ]
    },
    {
      "cell_type": "markdown",
      "metadata": {
        "id": "0-iG1WjU57Se"
      },
      "source": [
        "adv_generator.py"
      ]
    },
    {
      "cell_type": "code",
      "execution_count": null,
      "metadata": {
        "id": "7K7T46Ig5-VV"
      },
      "outputs": [],
      "source": [
        "# Define the PGD attack function\n",
        "def pgd_attack(model, images, labels, eps=8/255, alpha=2/255, iters=10):\n",
        "    ori_images = images.data\n",
        "    for i in range(iters):\n",
        "        images.requires_grad = True\n",
        "        outputs = model(images)\n",
        "\n",
        "        model.zero_grad()\n",
        "        cost = nn.CrossEntropyLoss()(outputs, labels).to(images.device)\n",
        "        cost.backward()\n",
        "\n",
        "        adv_images = images + alpha*images.grad.sign()\n",
        "        eta = torch.clamp(adv_images - ori_images, min=-eps, max=eps)\n",
        "        images = torch.clamp(ori_images + eta, min=0, max=1).detach_()\n",
        "\n",
        "    return images"
      ]
    },
    {
      "cell_type": "markdown",
      "metadata": {
        "id": "e-YUgKqh_SwY"
      },
      "source": [
        "## **2. Unlearn the Ship Class and Retrain the Model**"
      ]
    },
    {
      "cell_type": "markdown",
      "metadata": {
        "id": "ddjCCuQ96AsO"
      },
      "source": [
        "boundary_unlearning.py"
      ]
    },
    {
      "cell_type": "code",
      "execution_count": null,
      "metadata": {
        "id": "Bgtw7k5U6DV9"
      },
      "outputs": [],
      "source": [
        "# Filter 3000 ship class images and a balanced set of other classes\n",
        "ship_class_indices = [i for i, (_, label) in enumerate(trainset) if label == 8]\n",
        "non_ship_indices = [i for i, (_, label) in enumerate(trainset) if label != 8]\n",
        "random.shuffle(ship_class_indices)\n",
        "random.shuffle(non_ship_indices)\n",
        "ship_class_indices = ship_class_indices[:3000]\n",
        "non_ship_indices = non_ship_indices[:3000]  \n",
        "\n",
        "balanced_indices = ship_class_indices + non_ship_indices\n",
        "balanced_trainloader = torch.utils.data.DataLoader(\n",
        "    torch.utils.data.Subset(trainset, balanced_indices),\n",
        "    batch_size=128,\n",
        "    shuffle=True,\n",
        "    num_workers=2\n",
        ")\n",
        "\n",
        "# Load the trained model\n",
        "net = ResNet18()\n",
        "device = 'cuda' if torch.cuda.is_available() else 'cpu'\n",
        "net.load_state_dict(torch.load('resnet18_cifar10.pth'))  \n",
        "net = net.to(device)\n",
        "\n",
        "# Define optimizer for unlearning process\n",
        "optimizer = optim.SGD(net.parameters(), lr=0.001, momentum=0.9, weight_decay=5e-4)\n",
        "\n",
        "# Initialize lists to store loss and accuracy values\n",
        "train_losses = []\n",
        "train_accuracies = []\n",
        "start_time = time.time()\n",
        "\n",
        "for epoch in range(10): \n",
        "    print(\"Epoch:\", epoch)\n",
        "    running_loss = 0.0\n",
        "    correct = 0\n",
        "    total = 0\n",
        "    for i, data in enumerate(balanced_trainloader, 0):\n",
        "        inputs, labels = data\n",
        "        inputs, labels = inputs.to(device), labels.to(device)\n",
        "\n",
        "        adv_inputs = pgd_attack(net, inputs, labels)  \n",
        "        outputs = net(adv_inputs) \n",
        "        loss = nn.CrossEntropyLoss()(outputs, labels)  \n",
        "\n",
        "        optimizer.zero_grad()  \n",
        "        loss.backward()  \n",
        "        optimizer.step() \n",
        "\n",
        "        running_loss += loss.item()\n",
        "        _, predicted = torch.max(outputs, 1)\n",
        "        total += labels.size(0)\n",
        "        correct += (predicted == labels).sum().item()\n",
        "\n",
        "    if i % 100 == 99:\n",
        "      print(f'[Epoch {epoch + 1}, Iter {i + 1}] loss: {running_loss / 100:.3f}')\n",
        "      running_loss = 0.0\n",
        "\n",
        "    train_losses.append(running_loss / len(trainloader))\n",
        "    train_accuracies.append(100 * correct / total)\n",
        "total_time = time.time() - start_time\n",
        "print('Finished Unlearning with PGD Attack')\n",
        "print(f'Total unlearning time with PGD Attack Technique: {total_time:.2f} seconds.')\n",
        "torch.save(net.state_dict(), 'resnet18_unlearned.pth')  # Save the unlearned model"
      ]
    },
    {
      "cell_type": "code",
      "execution_count": null,
      "metadata": {
        "id": "NmPR2E_r8NpA"
      },
      "outputs": [],
      "source": [
        "#  Plotting the results\n",
        "epochs = range(1, 11)\n",
        "\n",
        "plt.figure(figsize=(14, 5))\n",
        "\n",
        "# Plot for epoch vs loss\n",
        "plt.subplot(1, 2, 1)\n",
        "plt.plot(epochs, train_losses, label='Training Loss')\n",
        "plt.xlabel('Epochs')\n",
        "plt.ylabel('Loss')\n",
        "plt.title('Epoch vs Loss - Unlearning with PGD Attack')\n",
        "plt.legend()\n",
        "\n",
        "# Plot for epoch vs accuracy\n",
        "plt.subplot(1, 2, 2)\n",
        "plt.plot(epochs, train_accuracies, label='Training Accuracy')\n",
        "plt.xlabel('Epochs')\n",
        "plt.ylabel('Accuracy (%)')\n",
        "plt.title('Epoch vs Accuracy - Unlearning with PGD Attack')\n",
        "plt.legend()\n",
        "\n",
        "plt.tight_layout()\n",
        "plt.show()"
      ]
    },
    {
      "cell_type": "markdown",
      "metadata": {
        "id": "b2Nyh0kG_d3u"
      },
      "source": [
        "## **3. Test the Unlearned Model and Visualize Using UMAP**"
      ]
    },
    {
      "cell_type": "markdown",
      "metadata": {
        "id": "zcuVdet16FV2"
      },
      "source": [
        "test_unlearned_model.py"
      ]
    },
    {
      "cell_type": "code",
      "execution_count": null,
      "metadata": {
        "id": "7hAVqLWj6Ifd"
      },
      "outputs": [],
      "source": [
        "# Load the unlearned model\n",
        "net = ResNet18()\n",
        "device = 'cuda' if torch.cuda.is_available() else 'cpu'\n",
        "net.load_state_dict(torch.load('resnet18_unlearned.pth'))  \n",
        "net = net.to(device)\n",
        "net.eval()  \n",
        "\n",
        "# Test the unlearned model and calculate accuracy for each class\n",
        "correct = {i: 0 for i in range(10)}\n",
        "total = {i: 0 for i in range(10)}\n",
        "features = []\n",
        "labels_list = []\n",
        "\n",
        "with torch.no_grad():  \n",
        "    for data in testloader:\n",
        "        images, labels = data\n",
        "        images, labels = images.to(device), labels.to(device)\n",
        "        outputs = net(images)  \n",
        "        _, predicted = torch.max(outputs, 1)  # Get the class with the highest score\n",
        "        c = (predicted == labels).squeeze()  # Check if the predictions are correct\n",
        "        for i in range(len(labels)):\n",
        "            label = labels[i].item()\n",
        "            correct[label] += c[i].item()  # Update correct predictions count\n",
        "            total[label] += 1  # Update total predictions count\n",
        "\n",
        "        feat = net.extract_features(images)\n",
        "        features.append(feat.cpu())\n",
        "        labels_list.append(labels.cpu())\n",
        "\n",
        "# Print accuracy for each class\n",
        "for i in range(10):\n",
        "    print(f'Accuracy of {classes[i]}: {100 * correct[i] / total[i]:.2f} %')\n",
        "\n",
        "\n",
        "features = torch.cat(features, dim=0).numpy()\n",
        "labels_list = torch.cat(labels_list, dim=0).numpy()\n",
        "\n",
        "# Apply UMAP for visualization\n",
        "reducer = umap.UMAP()\n",
        "embedding = reducer.fit_transform(features)\n",
        "\n",
        "# Plot UMAP result\n",
        "plt.figure(figsize=(10, 10))\n",
        "for i in range(10):\n",
        "    idx = labels_list == i\n",
        "    plt.scatter(embedding[idx, 0], embedding[idx, 1], label=classes[i], s=5)\n",
        "plt.legend()\n",
        "plt.title('UMAP projection of CIFAR-10 features - Unlearning with PGD Attack')\n",
        "plt.show()"
      ]
    },
    {
      "cell_type": "markdown",
      "metadata": {
        "id": "3m4FN0Al_mDW"
      },
      "source": [
        "# **Step 3: Modified PGD Attack with Early Stopping**"
      ]
    },
    {
      "cell_type": "markdown",
      "metadata": {
        "id": "yW2Oy4xP_pNP"
      },
      "source": [
        "## **1. Define the Modified PGD Attack Function**"
      ]
    },
    {
      "cell_type": "markdown",
      "metadata": {
        "id": "HLRduyur6K9m"
      },
      "source": [
        "adv_generator_modified.py"
      ]
    },
    {
      "cell_type": "code",
      "execution_count": null,
      "metadata": {
        "id": "gKy9mBqq6PcW"
      },
      "outputs": [],
      "source": [
        "def early_stopped_pgd_attack(model, images, labels, eps=8/255, alpha=2/255, iters=10):\n",
        "    ori_images = images.data\n",
        "    for i in range(iters):\n",
        "        images.requires_grad = True\n",
        "        outputs = model(images)\n",
        "\n",
        "        model.zero_grad()\n",
        "        cost = nn.CrossEntropyLoss()(outputs, labels).to(images.device)\n",
        "        cost.backward()\n",
        "\n",
        "        adv_images = images + alpha * images.grad.sign()\n",
        "        eta = torch.clamp(adv_images - ori_images, min=-eps, max=eps)\n",
        "        images = torch.clamp(ori_images + eta, min=0, max=1).detach_()\n",
        "\n",
        "        # Early stopping if the attack is successful\n",
        "        outputs = model(images)\n",
        "        _, pred = torch.max(outputs, 1)\n",
        "        if torch.any(pred != labels):\n",
        "            break\n",
        "\n",
        "    return images\n",
        "\n",
        "def extract_features(model, loader, device):\n",
        "    model.eval()\n",
        "    features = []\n",
        "    labels_list = []\n",
        "\n",
        "    with torch.no_grad():\n",
        "        for data in loader:\n",
        "            images, labels = data\n",
        "            images, labels = images.to(device), labels.to(device)\n",
        "            feat = model(images) \n",
        "            features.append(feat.cpu())\n",
        "            labels_list.append(labels.cpu())\n",
        "\n",
        "    features = torch.cat(features, dim=0).numpy()\n",
        "    labels_list = torch.cat(labels_list, dim=0).numpy()\n",
        "    return features, labels_list"
      ]
    },
    {
      "cell_type": "markdown",
      "metadata": {
        "id": "T4jQB4EM_vFf"
      },
      "source": [
        "## **2. Unlearn the Ship Class with Early Stopping**"
      ]
    },
    {
      "cell_type": "markdown",
      "metadata": {
        "id": "EYY55j5p6Rae"
      },
      "source": [
        "boundary_unlearning_modified.py"
      ]
    },
    {
      "cell_type": "code",
      "execution_count": null,
      "metadata": {
        "id": "HNNvHxR06T3H"
      },
      "outputs": [],
      "source": [
        "# Load the trained model\n",
        "net = ResNet18()\n",
        "device = 'cuda' if torch.cuda.is_available() else 'cpu'\n",
        "net.load_state_dict(torch.load('resnet18_cifar10.pth')) \n",
        "net = net.to(device)\n",
        "\n",
        "optimizer = optim.SGD(net.parameters(), lr=0.01, momentum=0.9, weight_decay=5e-4)\n",
        "\n",
        "train_losses = []\n",
        "train_accuracies = []\n",
        "start_time = time.time()\n",
        "# Unlearning loop using modified PGD attack\n",
        "for epoch in range(10):  \n",
        "    running_loss = 0.0\n",
        "    correct = 0\n",
        "    total = 0\n",
        "    print(\"Epoch:\", epoch)\n",
        "    for i, data in enumerate(trainloader, 0):\n",
        "        inputs, labels = data\n",
        "        inputs, labels = inputs.to(device), labels.to(device)\n",
        "\n",
        "        adv_inputs = early_stopped_pgd_attack(net, inputs, labels)  # Generate adversarial examples\n",
        "        outputs = net(adv_inputs)  \n",
        "        loss = nn.CrossEntropyLoss()(outputs, labels)  \n",
        "\n",
        "        optimizer.zero_grad()  \n",
        "        loss.backward()  \n",
        "        optimizer.step()  \n",
        "        \n",
        "        running_loss += loss.item()\n",
        "        _, predicted = torch.max(outputs, 1)\n",
        "        total += labels.size(0)\n",
        "        correct += (predicted == labels).sum().item()\n",
        "\n",
        "    if i % 100 == 99:\n",
        "          print(f'[Epoch {epoch + 1}, Iter {i + 1}] loss: {running_loss / 100:.3f}')\n",
        "          running_loss = 0.0\n",
        "\n",
        "    train_losses.append(running_loss / len(trainloader))\n",
        "    train_accuracies.append(100 * correct / total)\n",
        "total_time = time.time() - start_time\n",
        "print('Finished Unlearning with Modified PGD')\n",
        "print(f'Total unlearning time with Modified PGD Attack Technique: {total_time:.2f} seconds.')\n",
        "torch.save(net.state_dict(), 'resnet18_unlearned_modified.pth')"
      ]
    },
    {
      "cell_type": "code",
      "execution_count": null,
      "metadata": {
        "id": "APGLwSo68-1N"
      },
      "outputs": [],
      "source": [
        "# Plotting the results\n",
        "epochs = range(1, 11)\n",
        "\n",
        "plt.figure(figsize=(14, 5))\n",
        "\n",
        "# Plot for epoch vs loss\n",
        "plt.subplot(1, 2, 1)\n",
        "plt.plot(epochs, train_losses, label='Training Loss')\n",
        "plt.xlabel('Epochs')\n",
        "plt.ylabel('Loss')\n",
        "plt.title('Epoch vs Loss - Unlearning with Early-Stopped PGD Attack')\n",
        "plt.legend()\n",
        "\n",
        "# Plot for epoch vs accuracy\n",
        "plt.subplot(1, 2, 2)\n",
        "plt.plot(epochs, train_accuracies, label='Training Accuracy')\n",
        "plt.xlabel('Epochs')\n",
        "plt.ylabel('Accuracy (%)')\n",
        "plt.title('Epoch vs Accuracy - Unlearning with Early-Stopped PGD Attack')\n",
        "plt.legend()\n",
        "\n",
        "plt.tight_layout()\n",
        "plt.show()"
      ]
    },
    {
      "cell_type": "markdown",
      "metadata": {
        "id": "G9kvvjp7_3PG"
      },
      "source": [
        "## **3. Test the Modified Unlearned Model and Visualize Using UMAP**"
      ]
    },
    {
      "cell_type": "markdown",
      "metadata": {
        "id": "CxsXAZ2_6Wen"
      },
      "source": [
        "test_unlearned_model_modified.py"
      ]
    },
    {
      "cell_type": "code",
      "execution_count": null,
      "metadata": {
        "id": "xpYSWubb6byd"
      },
      "outputs": [],
      "source": [
        "# Load the modified unlearned model\n",
        "net = ResNet18()\n",
        "net.load_state_dict(torch.load('resnet18_unlearned_modified.pth'))  \n",
        "net = net.to(device)\n",
        "net.eval()  \n",
        "\n",
        "correct = {i: 0 for i in range(10)}\n",
        "total = {i: 0 for i in range(10)}\n",
        "features = []\n",
        "labels_list = []\n",
        "\n",
        "with torch.no_grad():  \n",
        "    for data in testloader:\n",
        "        images, labels = data\n",
        "        images, labels = images.to(device), labels.to(device)\n",
        "        outputs = net(images)  \n",
        "        _, predicted = torch.max(outputs, 1)  # Get the class with the highest score\n",
        "        c = (predicted == labels).squeeze()  # Check if the predictions are correct\n",
        "        for i in range(len(labels)):\n",
        "            label = labels[i].item()\n",
        "            correct[label] += c[i].item()  # Update correct predictions count\n",
        "            total[label] += 1  # Update total predictions count\n",
        "\n",
        "        feat = net(images) \n",
        "        features.append(feat.cpu())\n",
        "        labels_list.append(labels.cpu())\n",
        "\n",
        "# Print accuracy for each class\n",
        "for i in range(10):\n",
        "    print(f'Accuracy of {classes[i]}: {100 * correct[i] / total[i]:.2f} %')\n",
        "\n",
        "features = torch.cat(features, dim=0).numpy()\n",
        "labels_list = torch.cat(labels_list, dim=0).numpy()\n",
        "\n",
        "# Apply UMAP for visualization\n",
        "reducer = umap.UMAP()\n",
        "embedding = reducer.fit_transform(features)\n",
        "\n",
        "# Plot UMAP result\n",
        "plt.figure(figsize=(10, 10))\n",
        "for i in range(10):\n",
        "    idx = labels_list == i\n",
        "    plt.scatter(embedding[idx, 0], embedding[idx, 1], label=classes[i], s=5)\n",
        "plt.legend()\n",
        "plt.title('UMAP projection of CIFAR-10 features - Unlearning with Early-Stopped PGD Attack')\n",
        "plt.show()"
      ]
    }
  ],
  "metadata": {
    "accelerator": "GPU",
    "colab": {
      "gpuType": "T4",
      "provenance": []
    },
    "kernelspec": {
      "display_name": "Python 3",
      "name": "python3"
    },
    "language_info": {
      "codemirror_mode": {
        "name": "ipython",
        "version": 3
      },
      "file_extension": ".py",
      "mimetype": "text/x-python",
      "name": "python",
      "nbconvert_exporter": "python",
      "pygments_lexer": "ipython3",
      "version": "3.11.2"
    }
  },
  "nbformat": 4,
  "nbformat_minor": 0
}
